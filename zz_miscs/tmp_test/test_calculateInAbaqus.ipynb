{
 "cells": [
  {
   "cell_type": "code",
   "execution_count": null,
   "metadata": {},
   "outputs": [],
   "source": [
    "from ast import *\n",
    "import numpy as np\n",
    "import os\n",
    "import sys\n",
    "#from zoopt import Dimension, Objective, Parameter, ExpOpt\n",
    "from zoopt import Objective, Dimension, Solution, Parameter, ExpOpt, Opt\n",
    "from colorama import Fore, Style\n",
    "from utils.time_record import timer\n",
    "import argparse\n",
    "import matplotlib.pyplot as plt\n",
    "\n",
    "######################################################################\n",
    "from user_utils import StoppingCriterion\n",
    "from user_utils import get_value\n",
    "from user_utils import readCurve\n",
    "from user_utils import calculate_in_abaqus\n",
    "from user_utils import readExpDataSorted\n",
    "from user_utils import plot_opt_vs_exp\n",
    "from user_utils import myobjective\n",
    "from user_utils import argsparser\n",
    "from user_utils import zoopt_search\n",
    "######################################################################"
   ]
  },
  {
   "cell_type": "markdown",
   "metadata": {},
   "source": []
  },
  {
   "cell_type": "code",
   "execution_count": 2,
   "metadata": {},
   "outputs": [],
   "source": [
    "x = ['168400.','121400.','75400.']\n",
    "\n",
    "disp_sim, load_sim = calculate_in_abaqus.calculate_in_abaqus(x,96)\n",
    "plt.plot(disp_sim,load_sim)"
   ]
  }
 ],
 "metadata": {
  "kernelspec": {
   "display_name": "Python 3",
   "language": "python",
   "name": "python3"
  },
  "language_info": {
   "codemirror_mode": {
    "name": "ipython",
    "version": 3
   },
   "file_extension": ".py",
   "mimetype": "text/x-python",
   "name": "python",
   "nbconvert_exporter": "python",
   "pygments_lexer": "ipython3",
   "version": "3.8.10"
  },
  "orig_nbformat": 4,
  "vscode": {
   "interpreter": {
    "hash": "31f2aee4e71d21fbe5cf8b01ff0e069b9275f58929596ceb00d14d90e3e16cd6"
   }
  }
 },
 "nbformat": 4,
 "nbformat_minor": 2
}
