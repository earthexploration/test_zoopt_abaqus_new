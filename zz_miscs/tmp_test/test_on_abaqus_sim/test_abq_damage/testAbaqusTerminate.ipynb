{
 "cells": [
  {
   "attachments": {},
   "cell_type": "markdown",
   "metadata": {},
   "source": [
    "## Purpose:\n",
    "1 - lauch abaqus\n",
    "2 - kill it when it has been completed or not completes"
   ]
  },
  {
   "cell_type": "code",
   "execution_count": null,
   "metadata": {},
   "outputs": [],
   "source": [
    "import os"
   ]
  },
  {
   "attachments": {},
   "cell_type": "markdown",
   "metadata": {},
   "source": [
    "## Prepare abaqus simulation\n",
    "copy from command \"abq2020 verify -std -user_std\""
   ]
  },
  {
   "attachments": {},
   "cell_type": "markdown",
   "metadata": {},
   "source": [
    "# Launch abaqus simulation"
   ]
  },
  {
   "cell_type": "code",
   "execution_count": null,
   "metadata": {},
   "outputs": [],
   "source": [
    "os.system('rm *.sta *.stt *.sim *.res *.prt *.mdl *.com *.odb *.dat *.msg *.excep* *.log *.fil')\n",
    "\n",
    "#os.system('sleep 10')\n",
    "# cpus = 2\n",
    "# abq_launch_cmd = 'abq2020 job=std_user.inp user=std_user.f' \\\n",
    "#     + ' cpus=' + str(cpus)\n",
    "#abq_full_cmd = \"sh -c 'echo $$; exec abq2020 job=std_user user=std_user.f' >pidName.txt 2>&1 &\"\n",
    "cpus_abq = 10\n",
    "#abq_full_cmd = \"exec abq2020 job=std_user user=std_user.f cpus=\" + str(cpus_abq) + \" &\"\n",
    "job_name  =  \"example_rp\"\n",
    "user_name = \"umat.f\"\n",
    "abq_full_cmd = \"exec abq2020 job=\"+job_name+\" user=\"+user_name+\" cpus=\" \\\n",
    "    + str(cpus_abq)\n",
    "\n",
    "print(abq_full_cmd)\n",
    "\n",
    "# launch it\n",
    "os.system(abq_full_cmd)\n",
    "os.system('sleep 30')\n",
    "\n",
    "\n",
    "print('done')\n",
    "# get the pid name\n",
    "#pidName = open('./pidName.txt').read().split()\n",
    "#print(pidName)\n",
    "#os.system('sleep 10')\n",
    "\n",
    "\n",
    "# to see whether the last line is the following cases:\n",
    "# 1: the simulation has been completed\n",
    "# 2: the simulation has not been completed\n",
    "# while(1):\n",
    "#     # get the last line of sta file\n",
    "#     with open(\"std_user.sta\",\"r\") as file:\n",
    "#         last_line = file.readlines()[-1]\n",
    "#     file.close()\n",
    "\n",
    "#     # if last_line == \"The simulation has been completed!\" \\\n",
    "#     #     or last_line == \"The simulation has not been completed!\":\n",
    "#     if \"THE ANALYSIS HAS COMPLETED SUCCESSFULLY\" in last_line \\\n",
    "#         or \"THE ANALYSIS HAS NOT BEEN COMPLETED\" in last_line:\n",
    "#         #print(\"True\")\n",
    "#         # kill the process\n",
    "#         # cmd  = 'kill ' + str(pidName[0])\n",
    "#         # os.system(cmd)\n",
    "#         # to make sure .lck file has been deleted\n",
    "#         if os.path.exists('*.lck'):\n",
    "#             #cmd  = 'kill ' + str(pidName[0])\n",
    "#             os.system('rm *.lck')\n",
    "#         else:\n",
    "#             print('the lck file does not exist')\n",
    "\n",
    "#         break\n",
    "#     else:\n",
    "#         #print('sleep 10s to wait!')\n",
    "#         print('abaqus still running, sleep 10s to continue')\n",
    "#         os.system('sleep 10')"
   ]
  }
 ],
 "metadata": {
  "kernelspec": {
   "display_name": "Python 3",
   "language": "python",
   "name": "python3"
  },
  "language_info": {
   "codemirror_mode": {
    "name": "ipython",
    "version": 3
   },
   "file_extension": ".py",
   "mimetype": "text/x-python",
   "name": "python",
   "nbconvert_exporter": "python",
   "pygments_lexer": "ipython3",
   "version": "3.8.10"
  },
  "orig_nbformat": 4,
  "vscode": {
   "interpreter": {
    "hash": "916dbcbb3f70747c44a77c7bcd40155683ae19c65e1c03b4aa3499c5328201f1"
   }
  }
 },
 "nbformat": 4,
 "nbformat_minor": 2
}
