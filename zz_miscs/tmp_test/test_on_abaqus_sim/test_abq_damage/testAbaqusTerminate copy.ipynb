{
 "cells": [
  {
   "attachments": {},
   "cell_type": "markdown",
   "metadata": {},
   "source": [
    "## Purpose:\n",
    "1 - lauch abaqus\n",
    "2 - kill it when it has been completed or not completes"
   ]
  },
  {
   "cell_type": "code",
   "execution_count": null,
   "metadata": {},
   "outputs": [],
   "source": [
    "import os"
   ]
  },
  {
   "attachments": {},
   "cell_type": "markdown",
   "metadata": {},
   "source": [
    "## Prepare abaqus simulation\n",
    "copy from command \"abq2020 verify -std -user_std\""
   ]
  },
  {
   "attachments": {},
   "cell_type": "markdown",
   "metadata": {},
   "source": [
    "# Launch abaqus simulation"
   ]
  },
  {
   "cell_type": "code",
   "execution_count": null,
   "metadata": {},
   "outputs": [],
   "source": [
    "os.system('rm *.lck *.sta *.stt *.sim *.res *.prt *.mdl *.com *.odb *.dat *.msg *.excep* *.log *.fil')\n",
    "\n",
    "#os.system('sleep 10')\n",
    "# cpus = 2\n",
    "# abq_launch_cmd = 'abq2020 job=std_user.inp user=std_user.f' \\\n",
    "#     + ' cpus=' + str(cpus)\n",
    "#abq_full_cmd = \"sh -c 'echo $$; exec abq2020 job=std_user user=std_user.f' >pidName.txt 2>&1 &\"\n",
    "cpus_abq = 96\n",
    "#abq_full_cmd = \"exec abq2020 job=std_user user=std_user.f cpus=\" + str(cpus_abq) + \" &\"\n",
    "job_name  =  \"example_rp\"\n",
    "user_name = \"umat.f\"\n",
    "abq_full_cmd = \"exec abq2020 job=\"+job_name+\" user=\"+user_name+\" cpus=\" \\\n",
    "    + str(cpus_abq)\n",
    "\n",
    "#print(abq_full_cmd)\n",
    "\n",
    "# launch it\n",
    "os.system(abq_full_cmd)\n",
    "\n",
    "# sleep some seconds to let compiling process pass\n",
    "# this time may be extended if the fortran compiling process\n",
    "# takes more time\n",
    "# 不要吝啬这 60 秒，要是时间不够长，很有可能还没进入standard计算就开始如下的\n",
    "# 判断，那将产生很大的问题。\n",
    "os.system('sleep 60')\n",
    "\n",
    "# handle exceptions\n",
    "while(1):\n",
    "    # exception 1: bad parameters leads to crash\n",
    "    if not os.path.exists(job_name+'.sta'):\n",
    "        print('.sta not exists, errors occur')\n",
    "        break\n",
    "    # exception 2: singularity matrix\n",
    "    # sigularity has been avoided in umat.f\n",
    "    # ---------------------------------------\n",
    "    # if os.path.exists(job_name+'.log'):\n",
    "    #     # read the last line\n",
    "    #     with open(job_name+'.log','r') as file:\n",
    "    #         last_line = file.readlines()[-1]\n",
    "    #     file.close()\n",
    "    #     # \n",
    "    #     if \"Singular matrix\" in last_line or\\\n",
    "    #         \"PAUSE prompt\" in last_line:\n",
    "    #         break\n",
    "\n",
    "    # normal case 1:\n",
    "    if os.path.exists(job_name+'.lck'):\n",
    "        #print('.lck exists, sleep 60s to wait!')\n",
    "        os.system('sleep 60')\n",
    "    else:\n",
    "        #print('.lck does not exist, break')\n",
    "        #print('abaqus process has been killed')\n",
    "        break"
   ]
  },
  {
   "attachments": {},
   "cell_type": "markdown",
   "metadata": {},
   "source": [
    "# Post process"
   ]
  },
  {
   "cell_type": "code",
   "execution_count": null,
   "metadata": {},
   "outputs": [],
   "source": [
    "cmd_abq_post = 'abq2020 script=get_disp_load_RP.py'\n",
    "os.system(cmd_abq_post)"
   ]
  }
 ],
 "metadata": {
  "kernelspec": {
   "display_name": "Python 3",
   "language": "python",
   "name": "python3"
  },
  "language_info": {
   "codemirror_mode": {
    "name": "ipython",
    "version": 3
   },
   "file_extension": ".py",
   "mimetype": "text/x-python",
   "name": "python",
   "nbconvert_exporter": "python",
   "pygments_lexer": "ipython3",
   "version": "3.8.10"
  },
  "orig_nbformat": 4,
  "vscode": {
   "interpreter": {
    "hash": "916dbcbb3f70747c44a77c7bcd40155683ae19c65e1c03b4aa3499c5328201f1"
   }
  }
 },
 "nbformat": 4,
 "nbformat_minor": 2
}
