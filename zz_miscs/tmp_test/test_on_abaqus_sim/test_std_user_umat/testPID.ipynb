{
 "cells": [
  {
   "cell_type": "code",
   "execution_count": 5,
   "metadata": {},
   "outputs": [],
   "source": [
    "import os"
   ]
  },
  {
   "cell_type": "code",
   "execution_count": 1,
   "metadata": {},
   "outputs": [
    {
     "name": "stdout",
     "output_type": "stream",
     "text": [
      " THE ANALYSIS HAS COMPLETED SUCCESSFULLY\n",
      "\n"
     ]
    }
   ],
   "source": [
    "# get the last line of sta file\n",
    "with open(\"./std_user.sta\",\"r\") as file:\n",
    "    last_line = file.readlines()[-1]\n",
    "\n",
    "print(last_line)"
   ]
  },
  {
   "cell_type": "code",
   "execution_count": 6,
   "metadata": {},
   "outputs": [
    {
     "name": "stdout",
     "output_type": "stream",
     "text": [
      "6130\n",
      "123\n",
      "\n",
      "sleep 10s to wait!\n",
      "sleep 10s to wait!\n",
      "sleep 10s to wait!\n",
      "sleep 10s to wait!\n",
      "sleep 10s to wait!\n",
      "sleep 10s to wait!\n",
      "sleep 10s to wait!\n",
      "sleep 10s to wait!\n",
      "sleep 10s to wait!\n",
      "sleep 10s to wait!\n",
      "sleep 10s to wait!\n",
      "sleep 10s to wait!\n",
      "sleep 10s to wait!\n",
      "sleep 10s to wait!\n",
      "sleep 10s to wait!\n"
     ]
    }
   ],
   "source": [
    "os.system(\"sh -c 'echo $$; exec sleep 100' >pidName.txt 2>&1 &\")\n",
    "os.system('sleep 5') # sleep for 5s to wait the pid being stored in pidName.txt\n",
    "\n",
    "# pretend to be the .sta file\n",
    "f = open('this.sta','w')\n",
    "f.write('123\\n') # pretend to update the sta file\n",
    "#f.write('The simulation has been completed!')\n",
    "f.close()\n",
    "\n",
    "# get the pid name\n",
    "pidName = open('./pidName.txt').read().split()\n",
    "print(pidName[0])\n",
    "\n",
    "# get the last line of sta file\n",
    "with open(\"./this.sta\",\"r\") as file:\n",
    "    last_line = file.readlines()[-1]\n",
    "print(last_line)\n",
    "\n",
    "# to see whether the last line is the following cases:\n",
    "# 1: the simulation has been completed\n",
    "# 2: the simulation has not been completed\n",
    "while(1):\n",
    "    if last_line == \"The simulation has been completed!\" \\\n",
    "        or last_line == \"The simulation has not been completed!\":\n",
    "        #print(\"True\")\n",
    "        # kill the process\n",
    "        cmd  = 'kill ' + str(pidName[0])\n",
    "        os.system(cmd)\n",
    "        # to make sure .lck file has been deleted\n",
    "        if os.path.exists('*.lck'):\n",
    "            cmd  = 'kill ' + str(pidName[0])\n",
    "            os.system(cmd)\n",
    "        else:\n",
    "            print('the process does not exist')\n",
    "\n",
    "        break\n",
    "    else:\n",
    "        #print('sleep 10s to wait!')\n",
    "        os.system('sleep 10')\n",
    "\n",
    "\n",
    "# \n",
    "# if os.path.exists('pidName.txt'):\n",
    "#     cmd  = 'kill ' + str(pidName[0])\n",
    "#     os.system(cmd)\n",
    "# else:\n",
    "#     print('the process does not exist')"
   ]
  }
 ],
 "metadata": {
  "kernelspec": {
   "display_name": "Python 3",
   "language": "python",
   "name": "python3"
  },
  "language_info": {
   "codemirror_mode": {
    "name": "ipython",
    "version": 3
   },
   "file_extension": ".py",
   "mimetype": "text/x-python",
   "name": "python",
   "nbconvert_exporter": "python",
   "pygments_lexer": "ipython3",
   "version": "3.11.1"
  },
  "orig_nbformat": 4,
  "vscode": {
   "interpreter": {
    "hash": "5c7b89af1651d0b8571dde13640ecdccf7d5a6204171d6ab33e7c296e100e08a"
   }
  }
 },
 "nbformat": 4,
 "nbformat_minor": 2
}
